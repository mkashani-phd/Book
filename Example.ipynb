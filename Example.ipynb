{
 "cells": [
  {
   "cell_type": "markdown",
   "metadata": {},
   "source": [
    "# Using the Book Package\n",
    "\n",
    "This notebook provides an example of how to use the `Book` package, which includes the `SlidingBook`, `Page`, and `Packet` classes. We will create instances of these classes, demonstrate their functionality, and explore how they interact with each other.\n",
    "\n",
    "## Importing the Classes\n",
    "\n",
    "First, we'll import the necessary classes from the `Book` package.\n"
   ]
  },
  {
   "cell_type": "code",
   "execution_count": 1,
   "metadata": {},
   "outputs": [],
   "source": [
    "from src.Book import SlidingBook\n",
    "from src.Packet import Packet\n",
    "from src.Page import Page"
   ]
  },
  {
   "cell_type": "markdown",
   "metadata": {},
   "source": [
    "## Creating a Packet\n",
    "\n",
    "Let's create a `Packet` instance. A packet consists of a sequence number (`SN`), a message in bytes, an optional MAC (Message Authentication Code) in bytes, and a timestamp. The packet can be converted to bytes for transmission or storage.\n"
   ]
  },
  {
   "cell_type": "code",
   "execution_count": 2,
   "metadata": {},
   "outputs": [
    {
     "name": "stdout",
     "output_type": "stream",
     "text": [
      "Packet: Packet(SN=1, message=b'Hello, World!', mac=b'\\x88:\\x98-\\xc2\\xaeF\\xd2\\x0f\\x7f\\x10lxj\\x92A\\xb6\\r\\xc3@', timestamp=1725231002.5953865, payload_size=128, verified_bytes=0)\n"
     ]
    }
   ],
   "source": [
    "# Create a Packet instance\n",
    "import hmac\n",
    "packet = Packet(SN=1, message=b\"Hello, World!\", mac=hmac.new(b\"secret\", b\"Hello, World!\", \"sha1\").digest())\n",
    "print(f\"Packet: {packet}\")\n"
   ]
  },
  {
   "cell_type": "markdown",
   "metadata": {},
   "source": [
    "## Creating a Page\n",
    "\n",
    "Next, we'll create a `Page` instance. A page can hold multiple packets and is responsible for managing the sequence numbers of the packets it contains.\n"
   ]
  },
  {
   "cell_type": "code",
   "execution_count": 3,
   "metadata": {},
   "outputs": [
    {
     "name": "stdout",
     "output_type": "stream",
     "text": [
      "Page before adding packets: Page(size=5, packets=[None None None None None], occupancy=0)\n",
      "Page after adding the packet: Page(size=5, packets=[None\n",
      " Packet(SN=1, message=b'Hello, World!', mac=b'\\x88:\\x98-\\xc2\\xaeF\\xd2\\x0f\\x7f\\x10lxj\\x92A\\xb6\\r\\xc3@', timestamp=1725231002.5953865, payload_size=128, verified_bytes=0)\n",
      " None None None], occupancy=1)\n"
     ]
    }
   ],
   "source": [
    "# Create a Page instance\n",
    "page = Page(page_size=5)\n",
    "print(f\"Page before adding packets: {page}\")\n",
    "\n",
    "# Add the packet to the page\n",
    "page.add_packet(packet)\n",
    "print(f\"Page after adding the packet: {page}\")\n"
   ]
  },
  {
   "cell_type": "markdown",
   "metadata": {},
   "source": [
    "## Creating a SlidingBook\n",
    "\n",
    "A `SlidingBook` manages multiple pages. It allows you to add packets, automatically assigning them to the appropriate page based on their sequence number. If a page becomes full, it can be removed from the `SlidingBook`.\n"
   ]
  },
  {
   "cell_type": "code",
   "execution_count": 4,
   "metadata": {},
   "outputs": [
    {
     "name": "stdout",
     "output_type": "stream",
     "text": [
      "SlidingBook before adding packets: SlidingBook(num_pages=2, page_size=5, pages={}, global_min_SN=0, global_max_SN=10)\n",
      "SlidingBook after adding the packet: SlidingBook(num_pages=2, page_size=5, pages={0: Page(size=5, packets=[None\n",
      " Packet(SN=1, message=b'Hello, World!', mac=b'\\x88:\\x98-\\xc2\\xaeF\\xd2\\x0f\\x7f\\x10lxj\\x92A\\xb6\\r\\xc3@', timestamp=1725231002.5953865, payload_size=128, verified_bytes=0)\n",
      " None None None], occupancy=1)}, global_min_SN=0, global_max_SN=10)\n",
      "SlidingBook after adding a second packet: SlidingBook(num_pages=2, page_size=5, pages={0: Page(size=5, packets=[None\n",
      " Packet(SN=1, message=b'Hello, World!', mac=b'\\x88:\\x98-\\xc2\\xaeF\\xd2\\x0f\\x7f\\x10lxj\\x92A\\xb6\\r\\xc3@', timestamp=1725231002.5953865, payload_size=128, verified_bytes=0)\n",
      " Packet(SN=2, message=b'Another message', mac=b'9876543210ABCDEF', timestamp=1725231002.605495, payload_size=128, verified_bytes=0)\n",
      " None None], occupancy=2)}, global_min_SN=0, global_max_SN=10)\n"
     ]
    }
   ],
   "source": [
    "# Create a SlidingBook instance\n",
    "book = SlidingBook(num_pages=2, page_size=5)\n",
    "print(f\"SlidingBook before adding packets: {book}\")\n",
    "\n",
    "# Add the packet to the SlidingBook\n",
    "book.add_packet(packet)\n",
    "print(f\"SlidingBook after adding the packet: {book}\")\n",
    "\n",
    "# Add more packets to demonstrate page management\n",
    "packet2 = Packet(SN=2, message=b\"Another message\", mac=b\"9876543210ABCDEF\")\n",
    "book.add_packet(packet2)\n",
    "print(f\"SlidingBook after adding a second packet: {book}\")"
   ]
  },
  {
   "cell_type": "markdown",
   "metadata": {},
   "source": [
    "## Retrieving Page Indices\n",
    "\n",
    "The `SlidingBook` allows you to retrieve the indices of the currently active pages.\n"
   ]
  },
  {
   "cell_type": "code",
   "execution_count": 5,
   "metadata": {},
   "outputs": [
    {
     "name": "stdout",
     "output_type": "stream",
     "text": [
      "Current page indices: [0]\n"
     ]
    }
   ],
   "source": [
    "# Retrieve the page indices\n",
    "page_indices = book.get_page_index()\n",
    "print(f\"Current page indices: {page_indices}\")"
   ]
  },
  {
   "cell_type": "markdown",
   "metadata": {},
   "source": [
    "## filling None with empty packets \n",
    "\n",
    "Finally, we fill the non received packets. Then we can demonstrate how to clear a page and remove all packets."
   ]
  },
  {
   "cell_type": "code",
   "execution_count": 6,
   "metadata": {},
   "outputs": [
    {
     "name": "stdout",
     "output_type": "stream",
     "text": [
      "SlidingBook after filling missing packets: SlidingBook(num_pages=2, page_size=5, pages={0: Page(size=5, packets=[Packet(SN=0, message=b'', mac=b'', timestamp=1725231002.614788, payload_size=0, verified_bytes=0)\n",
      " Packet(SN=1, message=b'Hello, World!', mac=b'\\x88:\\x98-\\xc2\\xaeF\\xd2\\x0f\\x7f\\x10lxj\\x92A\\xb6\\r\\xc3@', timestamp=1725231002.5953865, payload_size=128, verified_bytes=0)\n",
      " Packet(SN=2, message=b'Another message', mac=b'9876543210ABCDEF', timestamp=1725231002.605495, payload_size=128, verified_bytes=0)\n",
      " Packet(SN=3, message=b'', mac=b'', timestamp=1725231002.6147912, payload_size=0, verified_bytes=0)\n",
      " Packet(SN=4, message=b'', mac=b'', timestamp=1725231002.614792, payload_size=0, verified_bytes=0)], occupancy=5)}, global_min_SN=0, global_max_SN=10)\n",
      "SlidingBook after clearing all pages: SlidingBook(num_pages=2, page_size=5, pages={}, global_min_SN=0, global_max_SN=10)\n"
     ]
    }
   ],
   "source": [
    "book.pages[0].fill_missing_packets()\n",
    "print(f\"SlidingBook after filling missing packets: {book}\")\n",
    "\n",
    "\n",
    "\n",
    "book.clear_all()\n",
    "print(f\"SlidingBook after clearing all pages: {book}\")"
   ]
  },
  {
   "cell_type": "markdown",
   "metadata": {},
   "source": [
    "## Summary\n",
    "\n",
    "In this notebook, we explored how to use the `Book` package, including creating and managing packets, pages, and sliding books. This package provides a flexible way to organize and manage network packets in a structured manner."
   ]
  }
 ],
 "metadata": {
  "kernelspec": {
   "display_name": "Python 3",
   "language": "python",
   "name": "python3"
  },
  "language_info": {
   "codemirror_mode": {
    "name": "ipython",
    "version": 3
   },
   "file_extension": ".py",
   "mimetype": "text/x-python",
   "name": "python",
   "nbconvert_exporter": "python",
   "pygments_lexer": "ipython3",
   "version": "3.12.3"
  }
 },
 "nbformat": 4,
 "nbformat_minor": 2
}
